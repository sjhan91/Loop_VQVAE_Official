{
 "cells": [
  {
   "cell_type": "code",
   "execution_count": null,
   "metadata": {},
   "outputs": [],
   "source": [
    "import json\n",
    "import pickle\n",
    "import librosa\n",
    "\n",
    "import numpy as np\n",
    "import matplotlib.pyplot as plt\n",
    "\n",
    "from time import time\n",
    "from glob import glob\n",
    "\n",
    "import librosa.display\n",
    "plt.style.use('seaborn')"
   ]
  },
  {
   "cell_type": "markdown",
   "metadata": {},
   "source": [
    "### Load Data and Preprocessing"
   ]
  },
  {
   "cell_type": "code",
   "execution_count": null,
   "metadata": {},
   "outputs": [],
   "source": [
    "folder_path = '../../data/looperman/'\n",
    "data_list = glob(folder_path + '*')"
   ]
  },
  {
   "cell_type": "code",
   "execution_count": null,
   "metadata": {},
   "outputs": [],
   "source": [
    "with open('./data/meta_info.json', 'r') as f:\n",
    "    meta_info = json.load(f)"
   ]
  },
  {
   "cell_type": "code",
   "execution_count": null,
   "metadata": {
    "tags": []
   },
   "outputs": [],
   "source": [
    "temp_full_cov = []\n",
    "temp_half_cov = []\n",
    "\n",
    "start_time = time()\n",
    "for data in data_list:\n",
    "    # load data\n",
    "    wav, sr = librosa.load(data, sr=8000)\n",
    "    doc_idx = data.split('/')[-1][:-4]\n",
    "    \n",
    "    # meta-info\n",
    "    bpm = meta_info[doc_idx]['bpm']\n",
    "    sec_wav = meta_info[doc_idx]['sec_wav']\n",
    "    \n",
    "    sec_per_beat = 60 / bpm\n",
    "    sec_per_bar = sec_per_beat * 4\n",
    "    \n",
    "    # sanity check\n",
    "    assert sec_wav == sec_per_bar * 8\n",
    "\n",
    "    len_bar = int(sec_wav / sec_per_bar)\n",
    "    len_beat = int(sec_wav / sec_per_beat)\n",
    "    len_per_beat = int(wav.shape[0] / len_beat)\n",
    "    len_per_bar = len_per_beat * 4\n",
    "    \n",
    "    # get feautures (chromagram)\n",
    "    mel_wav = np.zeros((128, len_bar))\n",
    "    # chroma_wav = np.zeros((12, len_bar))\n",
    "    for i in range(len_bar):\n",
    "        start_idx = i * len_per_bar\n",
    "        end_idx = (i + 1) * len_per_bar\n",
    "        window_wav = wav[start_idx:end_idx]\n",
    "\n",
    "        M = librosa.feature.melspectrogram(window_wav, n_fft=len_per_bar, hop_length=len_per_bar+1)\n",
    "        # C = librosa.feature.chroma_stft(window_wav, n_fft=len_per_bar, hop_length=len_per_bar+1)\n",
    "        \n",
    "        mel_wav[:, i] = M.squeeze()\n",
    "        # chroma_wav[:, i] = C.squeeze()\n",
    "        \n",
    "    mel_cov = np.corrcoef(mel_wav.T)\n",
    "    temp_full_cov.append(mel_cov)\n",
    "    \n",
    "    mel_cov = mel_cov[np.triu_indices(len_bar, k=1)]\n",
    "    temp_half_cov.append(mel_cov)\n",
    "    \n",
    "    print('I am on %d (%0.3f sec)' % (int(doc_idx), time()-start_time))\n",
    "    start_time = time()\n",
    "\n",
    "wav_full_cov = np.stack(temp_full_cov)\n",
    "wav_half_cov = np.stack(temp_half_cov)\n",
    "\n",
    "print('\\nwav_full_cov shape :', wav_full_cov.shape)\n",
    "print('wav_half_cov shape :', wav_half_cov.shape)"
   ]
  },
  {
   "cell_type": "code",
   "execution_count": null,
   "metadata": {},
   "outputs": [],
   "source": [
    "# plot samples\n",
    "cmap = 'viridis'\n",
    "\n",
    "# plot parameters\n",
    "CHAR_FONT_SIZE = 15\n",
    "NUM_FONT_SIZE = 12\n",
    "WIDTH = HEIGHT = 7\n",
    "\n",
    "# plotting\n",
    "plt.figure(figsize=(WIDTH, HEIGHT))\n",
    "plt.imshow(np.std(wav_full_cov, axis=0), cmap=cmap)\n",
    "plt.xticks(fontsize=NUM_FONT_SIZE)\n",
    "plt.yticks(fontsize=NUM_FONT_SIZE)\n",
    "plt.colorbar(fraction=0.046, pad=0.04)\n",
    "plt.grid(None)\n",
    "plt.savefig('./images/std_cov.png', dpi=1000, bbox_inches='tight', pad_inches=0)\n",
    "plt.show()"
   ]
  },
  {
   "cell_type": "code",
   "execution_count": null,
   "metadata": {},
   "outputs": [],
   "source": [
    "# save pickle\n",
    "save_path = './data/wav_cov.pkl'\n",
    "with open(save_path, 'wb') as f:\n",
    "    print('file saved!')\n",
    "    pickle.dump(wav_half_cov, f, protocol=pickle.HIGHEST_PROTOCOL)"
   ]
  }
 ],
 "metadata": {
  "kernelspec": {
   "display_name": "Python 3",
   "language": "python",
   "name": "python3"
  },
  "language_info": {
   "codemirror_mode": {
    "name": "ipython",
    "version": 3
   },
   "file_extension": ".py",
   "mimetype": "text/x-python",
   "name": "python",
   "nbconvert_exporter": "python",
   "pygments_lexer": "ipython3",
   "version": "3.8.8"
  }
 },
 "nbformat": 4,
 "nbformat_minor": 4
}
