{
 "cells": [
  {
   "cell_type": "code",
   "execution_count": null,
   "metadata": {},
   "outputs": [],
   "source": [
    "import os\n",
    "import pickle\n",
    "import sparse\n",
    "import fluidsynth\n",
    "import pypianoroll\n",
    "import pretty_midi\n",
    "\n",
    "import numpy as np\n",
    "import IPython.display\n",
    "\n",
    "from time import time\n",
    "from glob import glob\n",
    "from utils.common_utils import *"
   ]
  },
  {
   "cell_type": "markdown",
   "metadata": {},
   "source": [
    "### Preprocessing"
   ]
  },
  {
   "cell_type": "code",
   "execution_count": null,
   "metadata": {},
   "outputs": [],
   "source": [
    "data_path = '../../data/lakh/'"
   ]
  },
  {
   "cell_type": "code",
   "execution_count": null,
   "metadata": {
    "tags": []
   },
   "outputs": [],
   "source": [
    "count = 0\n",
    "loop_list = []\n",
    "start_time = time()\n",
    "\n",
    "for folder_path in glob(data_path+'*'):\n",
    "    for file_path in glob(folder_path+'/*'):\n",
    "        try:\n",
    "            pm = pretty_midi.PrettyMIDI(file_path)\n",
    "            file_name = file_path.split('/')[-1]\n",
    "\n",
    "            # time signature 4/4 check\n",
    "            if not check_time_sign(pm, num=4, denom=4): \n",
    "                continue\n",
    "\n",
    "            multitrack = pypianoroll.from_pretty_midi(pm, algorithm='strict')\n",
    "\n",
    "            # inst check\n",
    "            new_tracks = get_inst(multitrack.tracks)\n",
    "\n",
    "            if new_tracks is not None:\n",
    "                multitrack.tracks = new_tracks\n",
    "                multitrack.set_resolution(4, 'floor') # 16th note unit\n",
    "                multitrack.pad_to_same()\n",
    "                multitrack.binarize()\n",
    "\n",
    "                for inst in multitrack:\n",
    "                    if inst.is_drum == True:\n",
    "                        drum = standarize_drum(inst.pianoroll) # 9 components\n",
    "                    else:\n",
    "                        bass = inst.pianoroll[:, 24:72] # clip pitch (C1 ~ B4)\n",
    "                        bass = remove_dup_step(bass)\n",
    "\n",
    "                np_pianoroll = np.concatenate([drum, bass], axis=1)\n",
    "\n",
    "                # get loop from pianoroll\n",
    "                num_bar_unit = 16\n",
    "                for j in range(0, np_pianoroll.shape[0], num_bar_unit):\n",
    "                    loop = np_pianoroll[j:j+(num_bar_unit*8)] # 8 bars\n",
    "                    \n",
    "                    if (np.sum(loop[:, :9]) >= 32) and (np.sum(loop[:, 9:]) >= 32) and (loop.shape[0] == num_bar_unit*8):\n",
    "                        loop_list.append(sparse.COO(loop))\n",
    "        except:\n",
    "            continue\n",
    "        \n",
    "        count += 1\n",
    "        if (count + 1) % 1000 == 0:\n",
    "            print('Processing %s (%0.3f sec)' % (file_name, time()-start_time))\n",
    "            start_time = time()"
   ]
  },
  {
   "cell_type": "code",
   "execution_count": null,
   "metadata": {},
   "outputs": [],
   "source": [
    "# play demo\n",
    "for loop in loop_list:\n",
    "    pm = play_pianoroll(loop, fs=8)\n",
    "    IPython.display.display(IPython.display.Audio(pm.fluidsynth(fs=16000), rate=16000))\n",
    "    break"
   ]
  },
  {
   "cell_type": "code",
   "execution_count": null,
   "metadata": {},
   "outputs": [],
   "source": [
    "# save pickle\n",
    "save_path = './data/midi_full_strict_pianoroll.pkl'\n",
    "with open(save_path, 'wb') as f:\n",
    "    print('File saved!')\n",
    "    pickle.dump(loop_list, f, protocol=pickle.HIGHEST_PROTOCOL)"
   ]
  }
 ],
 "metadata": {
  "kernelspec": {
   "display_name": "Python 3",
   "language": "python",
   "name": "python3"
  },
  "language_info": {
   "codemirror_mode": {
    "name": "ipython",
    "version": 3
   },
   "file_extension": ".py",
   "mimetype": "text/x-python",
   "name": "python",
   "nbconvert_exporter": "python",
   "pygments_lexer": "ipython3",
   "version": "3.8.8"
  }
 },
 "nbformat": 4,
 "nbformat_minor": 4
}
