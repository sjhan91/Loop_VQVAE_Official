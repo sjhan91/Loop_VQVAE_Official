{
 "cells": [
  {
   "cell_type": "code",
   "execution_count": null,
   "metadata": {},
   "outputs": [],
   "source": [
    "import pickle\n",
    "import fluidsynth\n",
    "import pretty_midi\n",
    "\n",
    "import numpy as np\n",
    "import IPython.display\n",
    "import matplotlib.pyplot as plt\n",
    "\n",
    "import torch\n",
    "import pytorch_lightning as pl\n",
    "from pytorch_lightning.callbacks import ModelCheckpoint\n",
    "from pytorch_lightning.callbacks import StochasticWeightAveraging\n",
    "\n",
    "from torch import nn\n",
    "from torch.utils.data import DataLoader\n",
    "\n",
    "from utils.data import *\n",
    "from utils.loss import *\n",
    "from utils.model import *\n",
    "from utils.metric import *\n",
    "from utils.common_utils import *\n",
    "\n",
    "%load_ext autoreload\n",
    "%autoreload 2"
   ]
  },
  {
   "cell_type": "code",
   "execution_count": null,
   "metadata": {},
   "outputs": [],
   "source": [
    "# init seed\n",
    "random_seed = 0\n",
    "pl.seed_everything(random_seed)"
   ]
  },
  {
   "cell_type": "code",
   "execution_count": null,
   "metadata": {},
   "outputs": [],
   "source": [
    "# initialize model with GPU\n",
    "use_cuda = torch.cuda.is_available()\n",
    "device = torch.device('cuda' if use_cuda else 'cpu')\n",
    "print(device)"
   ]
  },
  {
   "cell_type": "markdown",
   "metadata": {},
   "source": [
    "### Load Data"
   ]
  },
  {
   "cell_type": "code",
   "execution_count": null,
   "metadata": {},
   "outputs": [],
   "source": [
    "path = './data/midi_detected_strict_kick_pianoroll.pkl'\n",
    "with open(path, 'rb') as f:\n",
    "    data = pickle.load(f)\n",
    "\n",
    "print('The number of data : %d' % len(data))"
   ]
  },
  {
   "cell_type": "code",
   "execution_count": null,
   "metadata": {},
   "outputs": [],
   "source": [
    "data = np.stack(data)\n",
    "data = np.transpose(data, (0, 2, 1))\n",
    "\n",
    "print('data shape :', data.shape)"
   ]
  },
  {
   "cell_type": "code",
   "execution_count": null,
   "metadata": {},
   "outputs": [],
   "source": [
    "# shuffle and split\n",
    "num_data = len(data)\n",
    "num_train = int(num_data * 0.8)\n",
    "\n",
    "train_data = data[:num_train]\n",
    "val_data = data[num_train:]\n",
    "\n",
    "print('The number of train: %d' % len(train_data))\n",
    "print('The number of validation: %d' % len(val_data))"
   ]
  },
  {
   "cell_type": "code",
   "execution_count": null,
   "metadata": {},
   "outputs": [],
   "source": [
    "# dataloader\n",
    "batch_size = 2048\n",
    "train_params = {'batch_size': batch_size,\n",
    "                'shuffle': True,\n",
    "                'pin_memory': True,\n",
    "                'num_workers': 4}\n",
    "\n",
    "val_params = train_params.copy()\n",
    "val_params['shuffle'] = False\n",
    "\n",
    "train_set = DataLoader(DatasetSampler(train_data), **train_params)\n",
    "val_set = DataLoader(DatasetSampler(val_data), **val_params)"
   ]
  },
  {
   "cell_type": "markdown",
   "metadata": {},
   "source": [
    "### Get Model"
   ]
  },
  {
   "cell_type": "code",
   "execution_count": null,
   "metadata": {
    "tags": []
   },
   "outputs": [],
   "source": [
    "# model\n",
    "ch = 128\n",
    "num_pitch = 57\n",
    "latent_dim = 16\n",
    "num_embed = 256\n",
    "\n",
    "model = VQVAE(ch, num_pitch, latent_dim, num_embed, thres=1)\n",
    "swa_callback = StochasticWeightAveraging(swa_epoch_start=0.7, swa_lrs=5e-5, annealing_epochs=20)\n",
    "checkpoint_callback = ModelCheckpoint(monitor='val_loss',\n",
    "                                      filename='VQVAE-{epoch:02d}-{val_loss:.4f}')"
   ]
  },
  {
   "cell_type": "code",
   "execution_count": null,
   "metadata": {},
   "outputs": [],
   "source": [
    "# training\n",
    "trainer = pl.Trainer(gpus=[5],\n",
    "                     num_nodes=1,\n",
    "                     max_epochs=500,\n",
    "                     deterministic=True,\n",
    "                     default_root_dir='./model',\n",
    "                     callbacks=[swa_callback, checkpoint_callback])\n",
    "\n",
    "trainer.fit(model, train_set, val_set)"
   ]
  },
  {
   "cell_type": "code",
   "execution_count": null,
   "metadata": {},
   "outputs": [],
   "source": [
    "print('best model path :', checkpoint_callback.best_model_path)\n",
    "print('final results :', trainer.logged_metrics)"
   ]
  },
  {
   "cell_type": "markdown",
   "metadata": {},
   "source": [
    "### Get Code"
   ]
  },
  {
   "cell_type": "code",
   "execution_count": null,
   "metadata": {},
   "outputs": [],
   "source": [
    "# model\n",
    "ch = 128\n",
    "num_pitch = 57\n",
    "latent_dim = 16\n",
    "num_embed = 256\n",
    "\n",
    "ckpt_path = checkpoint_callback.best_model_path\n",
    "model = VQVAE(ch, num_pitch, latent_dim, num_embed)\n",
    "model = model.load_from_checkpoint(ckpt_path, ch=ch, num_pitch=num_pitch, latent_dim=latent_dim, num_embed=num_embed)\n",
    "model = model.to(device)"
   ]
  },
  {
   "cell_type": "code",
   "execution_count": null,
   "metadata": {},
   "outputs": [],
   "source": [
    "# get latent z\n",
    "code_list = []\n",
    "\n",
    "model.eval()\n",
    "with torch.no_grad():\n",
    "    for batch_idx, x in enumerate(train_set):\n",
    "        x = x.to(device)\n",
    "        z = model.encoder(x)\n",
    "        quant_z, quant_idx, _ = model.quantize(z)\n",
    "        code_list.append(quant_idx.data.cpu().numpy())\n",
    "\n",
    "code_list = np.vstack(code_list)\n",
    "print('code_list shape :', code_list.shape)"
   ]
  },
  {
   "cell_type": "code",
   "execution_count": null,
   "metadata": {},
   "outputs": [],
   "source": [
    "# save latent codes of training set\n",
    "path = './data/code_list_num_dict_256.pkl'\n",
    "with open(path, 'wb') as f:\n",
    "    pickle.dump(code_list, f, protocol=pickle.HIGHEST_PROTOCOL)"
   ]
  }
 ],
 "metadata": {
  "kernelspec": {
   "display_name": "Python 3",
   "language": "python",
   "name": "python3"
  },
  "language_info": {
   "codemirror_mode": {
    "name": "ipython",
    "version": 3
   },
   "file_extension": ".py",
   "mimetype": "text/x-python",
   "name": "python",
   "nbconvert_exporter": "python",
   "pygments_lexer": "ipython3",
   "version": "3.8.8"
  }
 },
 "nbformat": 4,
 "nbformat_minor": 4
}
